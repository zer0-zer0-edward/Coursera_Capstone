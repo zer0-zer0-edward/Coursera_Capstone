{
 "cells": [
  {
   "cell_type": "markdown",
   "id": "2dc72e41",
   "metadata": {},
   "source": [
    "# Coursera / IBM Data Science Professional Certificate - Capstone Project\n",
    "## Week 2\n",
    "### This project is utilized for the Coursera IBM Data Science Capstone Project. The project will focus on the use-case of using location data to determine neighborhoods in a different side of the city of Toronto, Canada."
   ]
  },
  {
   "cell_type": "markdown",
   "id": "b30a27fa",
   "metadata": {},
   "source": [
    "## Placeholder - No deliverable due\n",
    "### + Learn how to use the Foursquare API\n",
    "### + Learn KMeans Clustering (Unsupervised Learning)"
   ]
  }
 ],
 "metadata": {
  "kernelspec": {
   "display_name": "Python 3",
   "language": "python",
   "name": "python3"
  },
  "language_info": {
   "codemirror_mode": {
    "name": "ipython",
    "version": 3
   },
   "file_extension": ".py",
   "mimetype": "text/x-python",
   "name": "python",
   "nbconvert_exporter": "python",
   "pygments_lexer": "ipython3",
   "version": "3.8.8"
  }
 },
 "nbformat": 4,
 "nbformat_minor": 5
}

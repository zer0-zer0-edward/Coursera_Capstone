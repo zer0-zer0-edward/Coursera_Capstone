{
 "cells": [
  {
   "cell_type": "markdown",
   "id": "8062122b-a98c-4dfb-a42c-b40863652549",
   "metadata": {},
   "source": [
    "# Coursera / IBM Data Science Professional Certificate - Capstone Project\n",
    "## Week 1\n",
    "### This project is utilized for the Coursera IBM Data Science Capstone Project. The project will focus on the use-case of using location data to determine neighborhoods in a different side of the city of Toronto, Canada."
   ]
  },
  {
   "cell_type": "code",
   "execution_count": 1,
   "id": "9b427bc4-74b8-4560-83b0-8a6d383c7e5b",
   "metadata": {},
   "outputs": [],
   "source": [
    "# Import Libraries\n",
    "import pandas as pd\n",
    "import numpy as np"
   ]
  },
  {
   "cell_type": "code",
   "execution_count": 2,
   "id": "a7ce4735-ae0e-412d-aa56-b38a39152c30",
   "metadata": {},
   "outputs": [
    {
     "name": "stdout",
     "output_type": "stream",
     "text": [
      "Hello Capstone Project Course!\n"
     ]
    }
   ],
   "source": [
    "print(\"Hello Capstone Project Course!\")"
   ]
  }
 ],
 "metadata": {
  "kernelspec": {
   "display_name": "Python 3",
   "language": "python",
   "name": "python3"
  },
  "language_info": {
   "codemirror_mode": {
    "name": "ipython",
    "version": 3
   },
   "file_extension": ".py",
   "mimetype": "text/x-python",
   "name": "python",
   "nbconvert_exporter": "python",
   "pygments_lexer": "ipython3",
   "version": "3.8.5"
  }
 },
 "nbformat": 4,
 "nbformat_minor": 5
}
